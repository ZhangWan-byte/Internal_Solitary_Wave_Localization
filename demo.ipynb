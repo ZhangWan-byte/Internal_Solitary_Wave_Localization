{
 "cells": [
  {
   "cell_type": "code",
   "execution_count": 1,
   "metadata": {},
   "outputs": [],
   "source": [
    "import numpy as np\n",
    "import matplotlib.pyplot as plt\n",
    "\n",
    "import torch\n",
    "import torch.nn as nn\n",
    "import torch.nn.functional as F"
   ]
  },
  {
   "cell_type": "markdown",
   "metadata": {},
   "source": [
    "# OneDCNN"
   ]
  },
  {
   "cell_type": "code",
   "execution_count": 2,
   "metadata": {},
   "outputs": [
    {
     "data": {
      "text/plain": [
       "153873"
      ]
     },
     "execution_count": 2,
     "metadata": {},
     "output_type": "execute_result"
    }
   ],
   "source": [
    "from model import *\n",
    "\n",
    "model = OneDCNN(n_channels=64, hidden=128, n_classes=17)\n",
    "sum([p.numel() for p in model.parameters()])"
   ]
  },
  {
   "cell_type": "code",
   "execution_count": 80,
   "metadata": {},
   "outputs": [],
   "source": [
    "class OneDCNN(torch.nn.Module):\n",
    "    def __init__(self, n_channels=16, hidden=16, n_classes=17, eps=2e-5, use_bias=False, dp_rate=0.25):\n",
    "        super(OneDCNN, self).__init__()\n",
    "\n",
    "        # Conv Layers\n",
    "        self.c1 = torch.nn.Conv1d(in_channels=6,              out_channels=n_channels,      kernel_size=8,  stride=1, padding='same', dilation=1, bias=use_bias)\n",
    "        self.c2 = torch.nn.Conv1d(in_channels=n_channels,     out_channels=n_channels * 2,  kernel_size=4,  stride=1, padding='same', dilation=1, bias=use_bias)\n",
    "        self.c3 = torch.nn.Conv1d(in_channels=n_channels * 2, out_channels=n_channels * 4,  kernel_size=2,  stride=1, padding='same', dilation=1, bias=use_bias)\n",
    "        \n",
    "        # Fully connected\n",
    "        self.f1 = torch.nn.Linear(in_features=n_channels * 4, out_features=hidden,    bias=True)\n",
    "        self.f2 = torch.nn.Linear(in_features=hidden,         out_features=hidden,    bias=True)\n",
    "        self.f3 = torch.nn.Linear(in_features=hidden,         out_features=n_classes, bias=True)\n",
    "\n",
    "        # BatchNorm Layers\n",
    "        self.bn1 = torch.nn.BatchNorm1d(num_features=n_channels,      eps=eps)\n",
    "        self.bn2 = torch.nn.BatchNorm1d(num_features=n_channels * 2,  eps=eps)\n",
    "        self.bn3 = torch.nn.BatchNorm1d(num_features=n_channels * 4,  eps=eps)\n",
    "\n",
    "        # Pooling\n",
    "        self.pool = torch.max_pool1d\n",
    "        # self.pool = nn.MaxPool1d(kernel_size=3, stride=1, padding='same')\n",
    "\n",
    "        # DropOut\n",
    "        self.dropout = torch.nn.Dropout(p=dp_rate)\n",
    "\n",
    "        # Initialization\n",
    "        for m in self.modules():\n",
    "            if isinstance(m, nn.Conv1d) or isinstance(m, nn.Linear):\n",
    "                m.weight.data.normal_(0, torch.prod(torch.Tensor(list(m.weight.shape)[1:]))**(-1/2))\n",
    "                if use_bias: m.bias.data.fill_(0.0)\n",
    "\n",
    "    def forward(self, x):\n",
    "        # Conv-layers\n",
    "        out = self.bn1(torch.relu(self.c1(x)))\n",
    "        print(\"1 \", out.shape)\n",
    "        # out = self.pool(out, kernel_size=8, stride=8, padding=0)\n",
    "        out = self.pool(out, kernel_size=4, stride=2, padding=1)\n",
    "        print(\"1 \", out.shape)\n",
    "        out = self.bn2(torch.relu(self.c2(out)))\n",
    "        print(\"2 \", out.shape)\n",
    "        out = self.pool(out, kernel_size=4, stride=2, padding=1)\n",
    "        print(\"2 \", out.shape)\n",
    "        out = self.bn3(torch.relu(self.c3(out)))\n",
    "        print(\"3 \", out.shape)\n",
    "        out = self.pool(out, kernel_size=4, stride=4, padding=1)\n",
    "        print(\"3 \", out.shape)\n",
    "\n",
    "        # Fully connected lyrs\n",
    "        out = out.view(out.size(0), -1)\n",
    "        out = self.dropout(self.f1(out))\n",
    "        out = self.dropout(self.f2(out))\n",
    "        out = self.f3(out)\n",
    "\n",
    "        return out"
   ]
  },
  {
   "cell_type": "code",
   "execution_count": 81,
   "metadata": {},
   "outputs": [
    {
     "data": {
      "text/plain": [
       "153873"
      ]
     },
     "execution_count": 81,
     "metadata": {},
     "output_type": "execute_result"
    }
   ],
   "source": [
    "model = OneDCNN(n_channels=64, hidden=128, n_classes=17)\n",
    "sum([p.numel() for p in model.parameters()])"
   ]
  },
  {
   "cell_type": "code",
   "execution_count": 82,
   "metadata": {},
   "outputs": [
    {
     "name": "stdout",
     "output_type": "stream",
     "text": [
      "1  torch.Size([128, 64, 16])\n",
      "1  torch.Size([128, 64, 8])\n",
      "2  torch.Size([128, 128, 8])\n",
      "2  torch.Size([128, 128, 4])\n",
      "3  torch.Size([128, 256, 4])\n",
      "3  torch.Size([128, 256, 1])\n"
     ]
    },
    {
     "data": {
      "text/plain": [
       "torch.Size([128, 17])"
      ]
     },
     "execution_count": 82,
     "metadata": {},
     "output_type": "execute_result"
    }
   ],
   "source": [
    "x = torch.ones((128, 6, 16))\n",
    "y = model(x)\n",
    "y.shape"
   ]
  },
  {
   "cell_type": "markdown",
   "metadata": {},
   "source": [
    "# ResNet50"
   ]
  },
  {
   "cell_type": "code",
   "execution_count": 21,
   "metadata": {},
   "outputs": [
    {
     "data": {
      "text/plain": [
       "23540433"
      ]
     },
     "execution_count": 21,
     "metadata": {},
     "output_type": "execute_result"
    }
   ],
   "source": [
    "class Bottleneck(nn.Module):\n",
    "    expansion = 4\n",
    "\n",
    "    def __init__(self, in_planes, planes, stride=1, heads=4, mhsa=False, resolution=None):\n",
    "        super(Bottleneck, self).__init__()\n",
    "\n",
    "        self.conv1 = nn.Conv2d(in_planes, planes, kernel_size=1, bias=False)\n",
    "        self.bn1 = nn.BatchNorm2d(planes)\n",
    "        if not mhsa:\n",
    "            self.conv2 = nn.Conv2d(planes, planes, kernel_size=3, padding=1, stride=stride, bias=False)\n",
    "        else:\n",
    "            self.conv2 = nn.ModuleList()\n",
    "            self.conv2.append(MHSA(planes, width=int(resolution[0]), height=int(resolution[1]), heads=heads))\n",
    "            if stride == 2:\n",
    "                self.conv2.append(nn.AvgPool2d(2, 2))\n",
    "            self.conv2 = nn.Sequential(*self.conv2)\n",
    "        self.bn2 = nn.BatchNorm2d(planes)\n",
    "        self.conv3 = nn.Conv2d(planes, self.expansion * planes, kernel_size=1, bias=False)\n",
    "        self.bn3 = nn.BatchNorm2d(self.expansion * planes)\n",
    "\n",
    "        self.shortcut = nn.Sequential()\n",
    "        if stride != 1 or in_planes != self.expansion*planes:\n",
    "            self.shortcut = nn.Sequential(\n",
    "                nn.Conv2d(in_planes, self.expansion*planes, kernel_size=1, stride=stride),\n",
    "                nn.BatchNorm2d(self.expansion*planes)\n",
    "            )\n",
    "\n",
    "    def forward(self, x):\n",
    "        out = F.relu(self.bn1(self.conv1(x)))\n",
    "        out = F.relu(self.bn2(self.conv2(out)))\n",
    "        out = self.bn3(self.conv3(out))\n",
    "        out += self.shortcut(x)\n",
    "        out = F.relu(out)\n",
    "        return out\n",
    "\n",
    "class ResNet(nn.Module):\n",
    "    def __init__(self, block, num_blocks, num_classes=1000, resolution=(224, 224), heads=4, is_botnet=False):\n",
    "        super(ResNet, self).__init__()\n",
    "        self.in_planes = 64\n",
    "        self.resolution = list(resolution)\n",
    "\n",
    "        self.conv1 = nn.Conv2d(1, 64, kernel_size=7, stride=2, padding=3, bias=False)\n",
    "        if self.conv1.stride[0] == 2:\n",
    "            self.resolution[0] /= 2\n",
    "        if self.conv1.stride[1] == 2:\n",
    "            self.resolution[1] /= 2\n",
    "        self.bn1 = nn.BatchNorm2d(64)\n",
    "        self.relu = nn.ReLU(inplace=True)\n",
    "        self.maxpool = nn.MaxPool2d(kernel_size=3, stride=2, padding=1) # for ImageNet\n",
    "        if self.maxpool.stride == 2:\n",
    "            self.resolution[0] /= 2\n",
    "            self.resolution[1] /= 2\n",
    "\n",
    "        self.layer1 = self._make_layer(block, 64, num_blocks[0], stride=1)\n",
    "        self.layer2 = self._make_layer(block, 128, num_blocks[1], stride=2)\n",
    "        self.layer3 = self._make_layer(block, 256, num_blocks[2], stride=2)\n",
    "        if is_botnet == False:\n",
    "            self.layer4 = self._make_layer(block, 512, num_blocks[3], stride=2, heads=heads, mhsa=False)\n",
    "        else:\n",
    "            self.layer4 = self._make_layer(block, 512, num_blocks[3], stride=1, heads=heads, mhsa=True)\n",
    "            \n",
    "        self.avgpool = nn.AdaptiveAvgPool2d((1, 1))\n",
    "        self.fc = nn.Sequential(\n",
    "            nn.Dropout(0.3), # All architecture deeper than ResNet-200 dropout_rate: 0.2\n",
    "            nn.Linear(512 * block.expansion, num_classes)\n",
    "        )\n",
    "\n",
    "    def _make_layer(self, block, planes, num_blocks, stride=1, heads=4, mhsa=False):\n",
    "        strides = [stride] + [1]*(num_blocks-1)\n",
    "        layers = []\n",
    "        for idx, stride in enumerate(strides):\n",
    "            layers.append(block(self.in_planes, planes, stride, heads, mhsa, self.resolution))\n",
    "            if stride == 2:\n",
    "                self.resolution[0] /= 2\n",
    "                self.resolution[1] /= 2\n",
    "            self.in_planes = planes * block.expansion\n",
    "        return nn.Sequential(*layers)\n",
    "\n",
    "    def forward(self, x):\n",
    "        out = self.relu(self.bn1(self.conv1(x)))\n",
    "        out = self.maxpool(out) # for ImageNet\n",
    "\n",
    "        out = self.layer1(out)\n",
    "        out = self.layer2(out)\n",
    "        out = self.layer3(out)\n",
    "        out = self.layer4(out)\n",
    "\n",
    "        out = self.avgpool(out)\n",
    "        out = torch.flatten(out, 1)\n",
    "        out = self.fc(out)\n",
    "        return out\n",
    "\n",
    "\n",
    "def ResNet50(num_classes=17, resolution=(16, 16), heads=4):\n",
    "    return ResNet(Bottleneck, [3, 4, 6, 3], num_classes=num_classes, resolution=resolution, heads=heads, is_botnet=False)\n",
    "\n",
    "\n",
    "resnet = ResNet50(num_classes=17, resolution=(16,16), heads=4)\n",
    "sum([p.numel() for p in resnet.parameters()])"
   ]
  },
  {
   "cell_type": "code",
   "execution_count": 23,
   "metadata": {},
   "outputs": [
    {
     "data": {
      "text/plain": [
       "torch.Size([128, 17])"
      ]
     },
     "execution_count": 23,
     "metadata": {},
     "output_type": "execute_result"
    }
   ],
   "source": [
    "x = torch.ones((128, 1, 16, 16))\n",
    "y = resnet(x)\n",
    "y.shape"
   ]
  }
 ],
 "metadata": {
  "kernelspec": {
   "display_name": "torch",
   "language": "python",
   "name": "python3"
  },
  "language_info": {
   "codemirror_mode": {
    "name": "ipython",
    "version": 3
   },
   "file_extension": ".py",
   "mimetype": "text/x-python",
   "name": "python",
   "nbconvert_exporter": "python",
   "pygments_lexer": "ipython3",
   "version": "3.8.0"
  }
 },
 "nbformat": 4,
 "nbformat_minor": 2
}
