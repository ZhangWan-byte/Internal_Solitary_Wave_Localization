{
 "cells": [
  {
   "cell_type": "code",
   "execution_count": 1,
   "metadata": {},
   "outputs": [],
   "source": [
    "import numpy as np\n",
    "import matplotlib.pyplot as plt\n",
    "\n",
    "import torch\n",
    "import torch.nn as nn\n",
    "import torch.nn.functional as F\n",
    "\n",
    "import eerie"
   ]
  },
  {
   "cell_type": "code",
   "execution_count": 2,
   "metadata": {},
   "outputs": [
    {
     "data": {
      "text/plain": [
       "'2.1.1+cu118'"
      ]
     },
     "execution_count": 2,
     "metadata": {},
     "output_type": "execute_result"
    }
   ],
   "source": [
    "torch.__version__"
   ]
  },
  {
   "cell_type": "code",
   "execution_count": 3,
   "metadata": {},
   "outputs": [
    {
     "data": {
      "text/plain": [
       "True"
      ]
     },
     "execution_count": 3,
     "metadata": {},
     "output_type": "execute_result"
    }
   ],
   "source": [
    "torch.cuda.is_available()"
   ]
  },
  {
   "cell_type": "markdown",
   "metadata": {},
   "source": [
    "# data"
   ]
  },
  {
   "cell_type": "code",
   "execution_count": 6,
   "metadata": {},
   "outputs": [],
   "source": [
    "from data_process import *"
   ]
  },
  {
   "cell_type": "code",
   "execution_count": 7,
   "metadata": {},
   "outputs": [
    {
     "name": "stdout",
     "output_type": "stream",
     "text": [
      "\n",
      "6x16 \n"
     ]
    },
    {
     "name": "stderr",
     "output_type": "stream",
     "text": [
      "100%|██████████| 5536/5536 [00:00<00:00, 20278.42it/s]\n",
      "d:\\anaconda3\\envs\\timm\\lib\\site-packages\\numpy\\core\\fromnumeric.py:57: FutureWarning: 'DataFrame.swapaxes' is deprecated and will be removed in a future version. Please use 'DataFrame.transpose' instead.\n",
      "  return bound(*args, **kwds)\n"
     ]
    },
    {
     "name": "stdout",
     "output_type": "stream",
     "text": [
      "(5536, 96) (5536,)\n",
      "times 0 fold 0\n",
      "(2768, 6, 16) (2768,) (2768, 6, 16) (2768,)\n",
      "times 0 fold 1\n",
      "(2768, 6, 16) (2768,) (2768, 6, 16) (2768,)\n",
      "times 1 fold 0\n",
      "(2768, 6, 16) (2768,) (2768, 6, 16) (2768,)\n",
      "times 1 fold 1\n",
      "(2768, 6, 16) (2768,) (2768, 6, 16) (2768,)\n",
      "times 2 fold 0\n",
      "(2768, 6, 16) (2768,) (2768, 6, 16) (2768,)\n",
      "times 2 fold 1\n",
      "(2768, 6, 16) (2768,) (2768, 6, 16) (2768,)\n",
      "times 3 fold 0\n",
      "(2768, 6, 16) (2768,) (2768, 6, 16) (2768,)\n",
      "times 3 fold 1\n",
      "(2768, 6, 16) (2768,) (2768, 6, 16) (2768,)\n",
      "times 4 fold 0\n",
      "(2768, 6, 16) (2768,) (2768, 6, 16) (2768,)\n",
      "times 4 fold 1\n",
      "(2768, 6, 16) (2768,) (2768, 6, 16) (2768,)\n"
     ]
    }
   ],
   "source": [
    "data_path=\"./data/Trainingdata_WS_Month_1.0/inputs/\"\n",
    "label_path=\"./data/Trainingdata_WS_Month_1.0/labels/\"\n",
    "\n",
    "\n",
    "kfold_load_process_save_data(data_path, label_path, is_augment=False, data_shape=\"6x16\", oversampling=\"\", kfold=2, times=5)"
   ]
  },
  {
   "cell_type": "code",
   "execution_count": 8,
   "metadata": {},
   "outputs": [
    {
     "data": {
      "text/plain": [
       "(2768, 6, 16)"
      ]
     },
     "execution_count": 8,
     "metadata": {},
     "output_type": "execute_result"
    }
   ],
   "source": [
    "data16x6 = np.load(\"./data/2fold/6x16/T0_fold0_noOversampling_X_train.npy\")\n",
    "data16x6.shape"
   ]
  },
  {
   "cell_type": "code",
   "execution_count": 9,
   "metadata": {},
   "outputs": [
    {
     "data": {
      "text/plain": [
       "(6, 16)"
      ]
     },
     "execution_count": 9,
     "metadata": {},
     "output_type": "execute_result"
    }
   ],
   "source": [
    "data16x6[0].shape"
   ]
  },
  {
   "cell_type": "markdown",
   "metadata": {},
   "source": [
    "# OneDCNN"
   ]
  },
  {
   "cell_type": "code",
   "execution_count": 3,
   "metadata": {},
   "outputs": [
    {
     "data": {
      "text/plain": [
       "153873"
      ]
     },
     "execution_count": 3,
     "metadata": {},
     "output_type": "execute_result"
    }
   ],
   "source": [
    "from model import *\n",
    "\n",
    "model = OneDCNN(n_channels=64, hidden=128, n_classes=17)\n",
    "sum([p.numel() for p in model.parameters()])"
   ]
  },
  {
   "cell_type": "code",
   "execution_count": 4,
   "metadata": {},
   "outputs": [],
   "source": [
    "class OneDCNN(torch.nn.Module):\n",
    "    def __init__(self, n_channels=16, hidden=16, n_classes=17, eps=2e-5, use_bias=False, dp_rate=0.25):\n",
    "        super(OneDCNN, self).__init__()\n",
    "\n",
    "        # Conv Layers\n",
    "        self.c1 = torch.nn.Conv1d(in_channels=6,              out_channels=n_channels,      kernel_size=8,  stride=1, padding='same', dilation=1, bias=use_bias)\n",
    "        self.c2 = torch.nn.Conv1d(in_channels=n_channels,     out_channels=n_channels * 2,  kernel_size=4,  stride=1, padding='same', dilation=1, bias=use_bias)\n",
    "        self.c3 = torch.nn.Conv1d(in_channels=n_channels * 2, out_channels=n_channels * 4,  kernel_size=2,  stride=1, padding='same', dilation=1, bias=use_bias)\n",
    "        \n",
    "        # Fully connected\n",
    "        self.f1 = torch.nn.Linear(in_features=n_channels * 4, out_features=hidden,    bias=True)\n",
    "        self.f2 = torch.nn.Linear(in_features=hidden,         out_features=hidden,    bias=True)\n",
    "        self.f3 = torch.nn.Linear(in_features=hidden,         out_features=n_classes, bias=True)\n",
    "\n",
    "        # BatchNorm Layers\n",
    "        self.bn1 = torch.nn.BatchNorm1d(num_features=n_channels,      eps=eps)\n",
    "        self.bn2 = torch.nn.BatchNorm1d(num_features=n_channels * 2,  eps=eps)\n",
    "        self.bn3 = torch.nn.BatchNorm1d(num_features=n_channels * 4,  eps=eps)\n",
    "\n",
    "        # Pooling\n",
    "        self.pool = torch.max_pool1d\n",
    "        # self.pool = nn.MaxPool1d(kernel_size=3, stride=1, padding='same')\n",
    "\n",
    "        # DropOut\n",
    "        self.dropout = torch.nn.Dropout(p=dp_rate)\n",
    "\n",
    "        # Initialization\n",
    "        for m in self.modules():\n",
    "            if isinstance(m, nn.Conv1d) or isinstance(m, nn.Linear):\n",
    "                m.weight.data.normal_(0, torch.prod(torch.Tensor(list(m.weight.shape)[1:]))**(-1/2))\n",
    "                if use_bias: m.bias.data.fill_(0.0)\n",
    "\n",
    "    def forward(self, x):\n",
    "        # Conv-layers\n",
    "        out = self.bn1(torch.relu(self.c1(x)))\n",
    "        print(\"1 \", out.shape)\n",
    "        # out = self.pool(out, kernel_size=8, stride=8, padding=0)\n",
    "        out = self.pool(out, kernel_size=4, stride=2, padding=1)\n",
    "        print(\"1 \", out.shape)\n",
    "        out = self.bn2(torch.relu(self.c2(out)))\n",
    "        print(\"2 \", out.shape)\n",
    "        out = self.pool(out, kernel_size=4, stride=2, padding=1)\n",
    "        print(\"2 \", out.shape)\n",
    "        out = self.bn3(torch.relu(self.c3(out)))\n",
    "        print(\"3 \", out.shape)\n",
    "        out = self.pool(out, kernel_size=4, stride=4, padding=1)\n",
    "        print(\"3 \", out.shape)\n",
    "\n",
    "        # Fully connected lyrs\n",
    "        out = out.view(out.size(0), -1)\n",
    "        out = self.dropout(self.f1(out))\n",
    "        out = self.dropout(self.f2(out))\n",
    "        out = self.f3(out)\n",
    "\n",
    "        return out"
   ]
  },
  {
   "cell_type": "code",
   "execution_count": 5,
   "metadata": {},
   "outputs": [
    {
     "data": {
      "text/plain": [
       "153873"
      ]
     },
     "execution_count": 5,
     "metadata": {},
     "output_type": "execute_result"
    }
   ],
   "source": [
    "model = OneDCNN(n_channels=64, hidden=128, n_classes=17)\n",
    "sum([p.numel() for p in model.parameters()])"
   ]
  },
  {
   "cell_type": "code",
   "execution_count": 6,
   "metadata": {},
   "outputs": [
    {
     "name": "stdout",
     "output_type": "stream",
     "text": [
      "1  torch.Size([128, 64, 16])\n",
      "1  torch.Size([128, 64, 8])\n",
      "2  torch.Size([128, 128, 8])\n",
      "2  torch.Size([128, 128, 4])\n",
      "3  torch.Size([128, 256, 4])\n",
      "3  torch.Size([128, 256, 1])\n"
     ]
    },
    {
     "name": "stderr",
     "output_type": "stream",
     "text": [
      "d:\\anaconda3\\envs\\torch\\lib\\site-packages\\torch\\nn\\modules\\conv.py:309: UserWarning: Using padding='same' with even kernel lengths and odd dilation may require a zero-padded copy of the input be created (Triggered internally at C:\\actions-runner\\_work\\pytorch\\pytorch\\builder\\windows\\pytorch\\aten\\src\\ATen\\native\\Convolution.cpp:1004.)\n",
      "  return F.conv1d(input, weight, bias, self.stride,\n"
     ]
    },
    {
     "data": {
      "text/plain": [
       "torch.Size([128, 17])"
      ]
     },
     "execution_count": 6,
     "metadata": {},
     "output_type": "execute_result"
    }
   ],
   "source": [
    "x = torch.ones((128, 6, 16))\n",
    "y = model(x)\n",
    "y.shape"
   ]
  },
  {
   "cell_type": "markdown",
   "metadata": {},
   "source": [
    "# EquiOneDCNN"
   ]
  },
  {
   "cell_type": "code",
   "execution_count": 10,
   "metadata": {},
   "outputs": [],
   "source": [
    "class EquiOneDCNN(torch.nn.Module):\n",
    "    def __init__(self, n_channels=16, hidden=16, n_classes=17, eps=2e-5, use_bias=False, dp_rate=0.25):\n",
    "        super(EquiOneDCNN, self).__init__()\n",
    "\n",
    "        # # G-conv approach\n",
    "        group = eerie.Group('R1R+')\n",
    "\n",
    "        # For first layer:\n",
    "        N_h_RdG = 9\n",
    "        base = 2\n",
    "        h_grid_RdG = group.h_grid_global(N_h_RdG, base ** (N_h_RdG - 1))\n",
    "        print(h_grid_RdG.grid)\n",
    "\n",
    "        N_h_crop = 3  # <--- TODO: not sure if this is the most optimal though, but it reduces the h_axis nicely to size 1 in the last layer\n",
    "        base = 2\n",
    "        h_grid_crop = group.h_grid_global(N_h_crop, base ** (N_h_crop - 1))\n",
    "        print(h_grid_crop.grid)\n",
    "\n",
    "        # Conv Layers\n",
    "        self.c1 = eerie.nn.GConvRdG(group, in_channels=6,              out_channels=n_channels,     kernel_size=7, h_grid=h_grid_RdG,  bias=use_bias, stride=1)\n",
    "        self.c2 = eerie.nn.GConvGG(group,  in_channels=n_channels,     out_channels=n_channels * 2, kernel_size=3, h_grid=h_grid_crop, bias=use_bias, stride=1, h_crop=True)\n",
    "        self.c3 = eerie.nn.GConvGG(group,  in_channels=n_channels * 2, out_channels=n_channels * 4, kernel_size=1, h_grid=h_grid_crop, bias=use_bias, stride=1, h_crop=True)\n",
    "        \n",
    "        # Fully connected\n",
    "        self.f1 = torch.nn.Linear(in_features=n_channels * 4 * (N_h_RdG+1)//2, out_features=hidden, bias=True)\n",
    "        self.f2 = torch.nn.Linear(in_features=hidden, out_features=hidden,    bias=True)\n",
    "        self.f3 = torch.nn.Linear(in_features=hidden, out_features=n_classes, bias=True)\n",
    "\n",
    "        # BatchNorm Layers\n",
    "        self.bn1 = torch.nn.BatchNorm2d(num_features=n_channels,      eps=eps)\n",
    "        self.bn2 = torch.nn.BatchNorm2d(num_features=n_channels * 2,  eps=eps)\n",
    "        self.bn3 = torch.nn.BatchNorm2d(num_features=n_channels * 4,  eps=eps)\n",
    "        \n",
    "        # Pooling\n",
    "        self.pool = eerie.functional.max_pooling_R1\n",
    "        # DropOut\n",
    "        self.dropout = torch.nn.Dropout(p=dp_rate)\n",
    "\n",
    "        # Initialization\n",
    "        for m in self.modules():\n",
    "            if isinstance(m, nn.Conv1d) or isinstance(m, nn.Linear):\n",
    "                m.weight.data.normal_(0, torch.prod(torch.Tensor(list(m.weight.shape)[1:]))**(-1/2))\n",
    "                if use_bias: m.bias.data.fill_(0.0)\n",
    "\n",
    "    def forward(self, x):\n",
    "        # Conv-layers\n",
    "        # We replace strided convolutions with normal convolutions followed by max pooling.\n",
    "        # -----\n",
    "        out = self.c1(x)\n",
    "        print(\"1 \", out.shape)\n",
    "        out = self.pool(out, kernel_size=4, stride=2, padding=1)\n",
    "        out = self.bn1(torch.relu(out))\n",
    "        print(\"1 \", out.shape)\n",
    "        # -----\n",
    "        # out = self.pool(out, kernel_size=8, stride=8, padding=0)\n",
    "        # print(\"1 \", out.shape)\n",
    "        # -----\n",
    "        out = self.c2(out)\n",
    "        print(\"2 \", out.shape)\n",
    "        out = self.pool(out, kernel_size=4, stride=2, padding=1)\n",
    "        out = self.bn2(torch.relu(out))\n",
    "        print(\"2 \", out.shape)\n",
    "        # -----\n",
    "        # out = self.pool(out, kernel_size=8, stride=8, padding=0)\n",
    "        # print(\"2 \", out.shape)\n",
    "        # -----\n",
    "        out = self.c3(out)\n",
    "        print(\"3 \", out.shape)\n",
    "        out = self.pool(out, kernel_size=4, stride=4, padding=1)\n",
    "        out = self.bn3(torch.relu(out))\n",
    "        print(\"3 \", out.shape)\n",
    "        # # -----\n",
    "        # out = self.c4(out)\n",
    "        # out = self.pool(out, kernel_size=2, stride=2, padding=0)\n",
    "        # out = self.bn4(torch.relu(out))\n",
    "        # print(\"4 \", out.shape)\n",
    "        # # -----\n",
    "        # out = self.c5(out)\n",
    "        # out = self.pool(out, kernel_size=2, stride=2, padding=0)\n",
    "        # out = self.bn5(torch.relu(out))\n",
    "        # print(\"5 \", out.shape)\n",
    "        # # -----\n",
    "        # # out = self.pool(out, kernel_size=5, stride=5, padding=0)\n",
    "        # # print(\"5 \", out.shape)\n",
    "        # -----\n",
    "        # Fully connected lyrs\n",
    "        out = out.view(out.size(0), -1)\n",
    "        out = self.dropout(self.f1(out))\n",
    "        out = self.dropout(self.f2(out))\n",
    "        out = self.f3(out)\n",
    "\n",
    "        return out"
   ]
  },
  {
   "cell_type": "code",
   "execution_count": 11,
   "metadata": {},
   "outputs": [
    {
     "name": "stdout",
     "output_type": "stream",
     "text": [
      "tensor([[  1.],\n",
      "        [  2.],\n",
      "        [  4.],\n",
      "        [  8.],\n",
      "        [ 16.],\n",
      "        [ 32.],\n",
      "        [ 64.],\n",
      "        [128.],\n",
      "        [256.]])\n",
      "tensor([[1.],\n",
      "        [2.],\n",
      "        [4.]])\n"
     ]
    },
    {
     "data": {
      "text/plain": [
       "1041809"
      ]
     },
     "execution_count": 11,
     "metadata": {},
     "output_type": "execute_result"
    }
   ],
   "source": [
    "model = EquiOneDCNN(n_channels=128, hidden=128, n_classes=17)\n",
    "sum([p.numel() for p in model.parameters()])"
   ]
  },
  {
   "cell_type": "code",
   "execution_count": 12,
   "metadata": {},
   "outputs": [
    {
     "name": "stdout",
     "output_type": "stream",
     "text": [
      "1  torch.Size([128, 128, 9, 16])\n",
      "1  torch.Size([128, 128, 9, 8])\n",
      "2  torch.Size([128, 256, 7, 8])\n",
      "2  torch.Size([128, 256, 7, 4])\n",
      "3  torch.Size([128, 512, 5, 4])\n",
      "3  torch.Size([128, 512, 5, 1])\n"
     ]
    },
    {
     "data": {
      "text/plain": [
       "torch.Size([128, 17])"
      ]
     },
     "execution_count": 12,
     "metadata": {},
     "output_type": "execute_result"
    }
   ],
   "source": [
    "x = torch.ones((128, 6, 16))\n",
    "y = model(x)\n",
    "y.shape"
   ]
  },
  {
   "cell_type": "markdown",
   "metadata": {},
   "source": [
    "# ResNet50"
   ]
  },
  {
   "cell_type": "code",
   "execution_count": 56,
   "metadata": {},
   "outputs": [],
   "source": [
    "class Bottleneck(nn.Module):\n",
    "    expansion = 4\n",
    "\n",
    "    def __init__(self, in_planes, planes, stride=1, heads=4, mhsa=False, resolution=None):\n",
    "        super(Bottleneck, self).__init__()\n",
    "\n",
    "        self.conv1 = nn.Conv2d(in_planes, planes, kernel_size=1, bias=False)\n",
    "        self.bn1 = nn.BatchNorm2d(planes)\n",
    "        if not mhsa:\n",
    "            self.conv2 = nn.Conv2d(planes, planes, kernel_size=3, padding=1, stride=stride, bias=False)\n",
    "        else:\n",
    "            self.conv2 = nn.ModuleList()\n",
    "            self.conv2.append(MHSA(planes, width=int(resolution[0]), height=int(resolution[1]), heads=heads))\n",
    "            if stride == 2:\n",
    "                self.conv2.append(nn.AvgPool2d(2, 2))\n",
    "            self.conv2 = nn.Sequential(*self.conv2)\n",
    "        self.bn2 = nn.BatchNorm2d(planes)\n",
    "        self.conv3 = nn.Conv2d(planes, self.expansion * planes, kernel_size=1, bias=False)\n",
    "        self.bn3 = nn.BatchNorm2d(self.expansion * planes)\n",
    "\n",
    "        self.shortcut = nn.Sequential()\n",
    "        if stride != 1 or in_planes != self.expansion*planes:\n",
    "            self.shortcut = nn.Sequential(\n",
    "                nn.Conv2d(in_planes, self.expansion*planes, kernel_size=1, stride=stride),\n",
    "                nn.BatchNorm2d(self.expansion*planes)\n",
    "            )\n",
    "\n",
    "    def forward(self, x):\n",
    "        out = F.relu(self.bn1(self.conv1(x)))\n",
    "        out = F.relu(self.bn2(self.conv2(out)))\n",
    "        out = self.bn3(self.conv3(out))\n",
    "        out += self.shortcut(x)\n",
    "        out = F.relu(out)\n",
    "        return out\n",
    "\n",
    "class ResNet(nn.Module):\n",
    "    def __init__(self, block, num_blocks, num_classes=1000, resolution=(224, 224), heads=4, is_botnet=False):\n",
    "        super(ResNet, self).__init__()\n",
    "        self.in_planes = 16\n",
    "        self.resolution = list(resolution)\n",
    "\n",
    "        self.conv1 = nn.Conv2d(1, 16, kernel_size=7, stride=2, padding=3, bias=False)\n",
    "        if self.conv1.stride[0] == 2:\n",
    "            self.resolution[0] /= 2\n",
    "        if self.conv1.stride[1] == 2:\n",
    "            self.resolution[1] /= 2\n",
    "        self.bn1 = nn.BatchNorm2d(16)\n",
    "        self.relu = nn.ReLU(inplace=True)\n",
    "        self.maxpool = nn.MaxPool2d(kernel_size=3, stride=2, padding=1) # for ImageNet\n",
    "        if self.maxpool.stride == 2:\n",
    "            self.resolution[0] /= 2\n",
    "            self.resolution[1] /= 2\n",
    "\n",
    "        self.layer1 = self._make_layer(block, 16, num_blocks[0], stride=1)\n",
    "        self.layer2 = self._make_layer(block, 32, num_blocks[1], stride=2)\n",
    "        self.layer3 = self._make_layer(block, 64, num_blocks[2], stride=2)\n",
    "        if is_botnet == False:\n",
    "            self.layer4 = self._make_layer(block, 128, num_blocks[3], stride=2, heads=heads, mhsa=False)\n",
    "        else:\n",
    "            self.layer4 = self._make_layer(block, 128, num_blocks[3], stride=1, heads=heads, mhsa=True)\n",
    "            \n",
    "        self.avgpool = nn.AdaptiveAvgPool2d((1, 1))\n",
    "        self.fc = nn.Sequential(\n",
    "            nn.Dropout(0.3), # All architecture deeper than ResNet-200 dropout_rate: 0.2\n",
    "            nn.Linear(128 * block.expansion, num_classes)\n",
    "        )\n",
    "\n",
    "    def _make_layer(self, block, planes, num_blocks, stride=1, heads=4, mhsa=False):\n",
    "        strides = [stride] + [1]*(num_blocks-1)\n",
    "        layers = []\n",
    "        for idx, stride in enumerate(strides):\n",
    "            layers.append(block(self.in_planes, planes, stride, heads, mhsa, self.resolution))\n",
    "            if stride == 2:\n",
    "                self.resolution[0] /= 2\n",
    "                self.resolution[1] /= 2\n",
    "            self.in_planes = planes * block.expansion\n",
    "        return nn.Sequential(*layers)\n",
    "\n",
    "    def forward(self, x):\n",
    "        out = self.relu(self.bn1(self.conv1(x)))\n",
    "        out = self.maxpool(out) # for ImageNet\n",
    "\n",
    "        out = self.layer1(out)\n",
    "        out = self.layer2(out)\n",
    "        out = self.layer3(out)\n",
    "        out = self.layer4(out)\n",
    "\n",
    "        out = self.avgpool(out)\n",
    "        out = torch.flatten(out, 1)\n",
    "        out = self.fc(out)\n",
    "        return out\n",
    "\n",
    "\n",
    "# def ResNet50(num_classes=17, resolution=(16, 16), heads=4):\n",
    "#     return ResNet(Bottleneck, [3, 4, 6, 3], num_classes=num_classes, resolution=resolution, heads=heads, is_botnet=False)\n",
    "\n",
    "def get_ResNet(num_blocks=[3, 4, 6, 3], num_classes=17, resolution=(16, 16)):\n",
    "    return ResNet(block=Bottleneck, num_blocks=num_blocks, num_classes=num_classes, resolution=resolution, is_botnet=False)\n",
    "\n",
    "\n",
    "def get_BoTNet(num_blocks=[3, 4, 6, 3], num_classes=17, resolution=(16, 16), heads=4):\n",
    "    return ResNet(block=Bottleneck, num_blocks=num_blocks, num_classes=num_classes, resolution=resolution, is_botnet=True, heads=heads)\n"
   ]
  },
  {
   "cell_type": "code",
   "execution_count": 59,
   "metadata": {},
   "outputs": [
    {
     "data": {
      "text/plain": [
       "514497"
      ]
     },
     "execution_count": 59,
     "metadata": {},
     "output_type": "execute_result"
    }
   ],
   "source": [
    "resnet = get_ResNet(num_blocks=[1,1,1,1], num_classes=17, resolution=(16,16))\n",
    "sum([p.numel() for p in resnet.parameters()])"
   ]
  },
  {
   "cell_type": "code",
   "execution_count": 60,
   "metadata": {},
   "outputs": [
    {
     "data": {
      "text/plain": [
       "torch.Size([128, 17])"
      ]
     },
     "execution_count": 60,
     "metadata": {},
     "output_type": "execute_result"
    }
   ],
   "source": [
    "x = torch.ones((128, 1, 16, 16))\n",
    "y = resnet(x)\n",
    "y.shape"
   ]
  },
  {
   "cell_type": "markdown",
   "metadata": {},
   "source": [
    "# EquiResNet"
   ]
  },
  {
   "cell_type": "code",
   "execution_count": 18,
   "metadata": {},
   "outputs": [],
   "source": [
    "class RRPlus_IdentityBlock(torch.nn.Module):\n",
    "    def __init__(self, group, in_channels, out_channels, kernel_size, h_grid, h_grid_crop, stride, use_bias, eps, override=False):\n",
    "        super(RRPlus_IdentityBlock, self).__init__()\n",
    "\n",
    "        # Additional params\n",
    "        self.diff_size = (in_channels != out_channels)\n",
    "        self.h_grid = h_grid_crop if self.diff_size else h_grid\n",
    "        self.crop = h_grid_crop.N\n",
    "        self.override = override\n",
    "\n",
    "        # Conv Layers\n",
    "        if not override:\n",
    "            self.c1 = eerie.nn.GConvGG(\n",
    "                group, \n",
    "                in_channels=in_channels, \n",
    "                out_channels=out_channels, \n",
    "                kernel_size=kernel_size, \n",
    "                h_grid=self.h_grid, \n",
    "                stride=stride, \n",
    "                bias=use_bias, \n",
    "                h_crop=self.diff_size\n",
    "            )\n",
    "        else:\n",
    "            self.c1 = eerie.nn.GConvGG(\n",
    "                group, \n",
    "                in_channels=in_channels, \n",
    "                out_channels=out_channels, \n",
    "                kernel_size=kernel_size, \n",
    "                h_grid=h_grid_crop, \n",
    "                stride=stride, \n",
    "                bias=use_bias, h_crop=True\n",
    "            )\n",
    "\n",
    "        self.c2 = eerie.nn.GConvGG(\n",
    "            group, \n",
    "            in_channels=out_channels, \n",
    "            out_channels=out_channels, \n",
    "            kernel_size=kernel_size, \n",
    "            h_grid=h_grid, \n",
    "            stride=stride, \n",
    "            bias=use_bias, \n",
    "            h_crop=False\n",
    "        )\n",
    "\n",
    "        # BatchNorm Layers\n",
    "        self.bn1 = torch.nn.BatchNorm2d(num_features=out_channels, eps=eps)\n",
    "        self.bn2 = torch.nn.BatchNorm2d(num_features=out_channels, eps=eps)\n",
    "        self.bn_out = torch.nn.BatchNorm2d(num_features=out_channels, eps=eps)\n",
    "\n",
    "        # Initialization\n",
    "        for m in self.modules():\n",
    "            if isinstance(m, nn.Conv1d):\n",
    "                m.weight.data.normal_(0, torch.prod(torch.Tensor(list(m.weight.shape)[1:])) ** (-1 / 2))\n",
    "                if use_bias: m.bias.data.fill_(0.0)\n",
    "\n",
    "    def forward(self, x):\n",
    "        out = torch.relu(self.bn1(self.c1(x)))\n",
    "        out = self.bn2(self.c2(out))\n",
    "        # shortcut\n",
    "        if self.diff_size:\n",
    "            out = out + x[:,:,:-(self.crop - 1),:].repeat(1, 2, 1, 1)\n",
    "        elif self.override:\n",
    "            out = out + x[:, :, :-(self.crop - 1), :]\n",
    "        else:\n",
    "            out = out + x\n",
    "        out = torch.relu(self.bn_out(out))\n",
    "        return out\n",
    "\n",
    "\n",
    "class RRPlus_M34res(torch.nn.Module):\n",
    "    def __init__(self, n_channels=48, n_classes=10, eps=2e-5, use_bias=False):\n",
    "        super(RRPlus_M34res, self).__init__()\n",
    "\n",
    "        # # G-conv approach\n",
    "        group = eerie.Group('R1R+')\n",
    "\n",
    "        # For first layer:\n",
    "        N_h_RdG = 9\n",
    "        base = 2\n",
    "        h_grid_RdG = group.h_grid_global(N_h_RdG, base ** (N_h_RdG - 1))\n",
    "        print(h_grid_RdG.grid)\n",
    "\n",
    "        # For subsequent layers:\n",
    "        N_h = 1\n",
    "        base = 2\n",
    "        h_grid = group.h_grid_global(N_h, base ** (N_h - 1))\n",
    "        print(h_grid.grid)\n",
    "        n_channels_G = int(45)  # For Nh=6 use 2.45, For Nh = 7, use 2.65, For Nh=8, use 2.85, For Nh=9, use 3.0,\n",
    "\n",
    "        N_h_crop = 3  # <--- TODO: not sure if this is the most optimal though, but it reduces the h_axis nicely to size 1 in the last layer\n",
    "        base = 2\n",
    "        h_grid_crop = group.h_grid_global(N_h_crop, base ** (N_h_crop - 1))\n",
    "        print(h_grid_crop.grid)\n",
    "\n",
    "        # Conv Layers\n",
    "        self.c1 = eerie.nn.GConvRdG(\n",
    "            group, \n",
    "            in_channels=6, \n",
    "            out_channels=n_channels_G, \n",
    "            kernel_size=7, \n",
    "            h_grid=h_grid_RdG, \n",
    "            bias=use_bias, \n",
    "            stride=1\n",
    "        )\n",
    "        # ----\n",
    "        first_block = []\n",
    "        for i in range(3):\n",
    "            override = True if i == 0 else False\n",
    "            first_block.append(\n",
    "                RRPlus_IdentityBlock(\n",
    "                    group, \n",
    "                    in_channels=n_channels_G, \n",
    "                    out_channels=n_channels_G, \n",
    "                    kernel_size=3, \n",
    "                    stride=1, \n",
    "                    h_grid=h_grid, \n",
    "                    h_grid_crop=h_grid_crop, \n",
    "                    use_bias=use_bias, \n",
    "                    eps=eps, \n",
    "                    override=override\n",
    "                )\n",
    "            )\n",
    "        self.first_block = nn.Sequential(*first_block)\n",
    "        # ----\n",
    "        sec_block = []\n",
    "        for i in range(4):\n",
    "            b_channels = n_channels_G if i == 0 else n_channels_G * 2\n",
    "            sec_block.append(\n",
    "                RRPlus_IdentityBlock(\n",
    "                    group, \n",
    "                    in_channels=b_channels, \n",
    "                    out_channels=n_channels_G * 2, \n",
    "                    kernel_size=3, \n",
    "                    stride=1, \n",
    "                    h_grid=h_grid, \n",
    "                    h_grid_crop=h_grid_crop, \n",
    "                    use_bias=use_bias, \n",
    "                    eps=eps\n",
    "                )\n",
    "            )\n",
    "        self.sec_block = nn.Sequential(*sec_block)\n",
    "        # ----\n",
    "        thrd_block = []\n",
    "        for i in range(6):\n",
    "            b_channels = n_channels_G * 2 if i == 0 else n_channels_G * 4\n",
    "            thrd_block.append(\n",
    "                RRPlus_IdentityBlock(\n",
    "                    group, \n",
    "                    in_channels=b_channels, \n",
    "                    out_channels=n_channels_G * 4, \n",
    "                    kernel_size=3, \n",
    "                    stride=1, \n",
    "                    h_grid=h_grid, \n",
    "                    h_grid_crop=h_grid_crop, \n",
    "                    use_bias=use_bias, \n",
    "                    eps=eps\n",
    "                )\n",
    "            )\n",
    "        self.thrd_block = nn.Sequential(*thrd_block)\n",
    "        # ----\n",
    "        frth_block = []\n",
    "        for i in range(3):\n",
    "            b_channels = n_channels_G * 4 if i == 0 else n_channels_G * 8\n",
    "            frth_block.append(\n",
    "                RRPlus_IdentityBlock(\n",
    "                    group, \n",
    "                    in_channels=b_channels, \n",
    "                    out_channels=n_channels_G * 8, \n",
    "                    kernel_size=3, \n",
    "                    stride=1, \n",
    "                    h_grid=h_grid, \n",
    "                    h_grid_crop=h_grid_crop, \n",
    "                    use_bias=use_bias, \n",
    "                    eps=eps\n",
    "                )\n",
    "            )\n",
    "        self.frth_block = nn.Sequential(*frth_block)\n",
    "        # ----\n",
    "        self.c_out = eerie.nn.GConvGG(\n",
    "            group, \n",
    "            in_channels=n_channels_G * 8, \n",
    "            out_channels=n_classes, \n",
    "            kernel_size=1, \n",
    "            stride=1, \n",
    "            h_grid=h_grid, \n",
    "            bias=use_bias)\n",
    "\n",
    "        # BatchNorm Layers\n",
    "        self.bn1 = torch.nn.BatchNorm2d(num_features=n_channels_G, eps=eps)\n",
    "\n",
    "        # Pooling\n",
    "        self.pool = eerie.functional.max_pooling_R1\n",
    "\n",
    "        # Initialization\n",
    "        for m in self.modules():\n",
    "            if isinstance(m, nn.Conv1d):\n",
    "                m.weight.data.normal_(0, torch.prod(torch.Tensor(list(m.weight.shape)[1:]))**(-1/2))\n",
    "                if use_bias: m.bias.data.fill_(0.0)\n",
    "\n",
    "    def forward(self, x):\n",
    "        # Instead of strided conv, we use normal conv and then pooling.\n",
    "        out = self.c1(x)\n",
    "        out = self.pool(out, kernel_size=4, stride=1, padding=1)\n",
    "        out = torch.relu(self.bn1(out))\n",
    "        # print(\"0 \", out.shape)\n",
    "        # -----\n",
    "        out = self.pool(out, kernel_size=4, stride=1, padding=1)\n",
    "        out = self.first_block(out)\n",
    "        # print(\"1 \", out.shape)\n",
    "        out = self.pool(out, kernel_size=4, stride=1, padding=1)\n",
    "        out = self.sec_block(out)\n",
    "        # print(\"2 \", out.shape)\n",
    "        out = self.pool(out, kernel_size=4, stride=1, padding=1)\n",
    "        out = self.thrd_block(out)\n",
    "        # print(\"3 \", out.shape)\n",
    "        out = self.pool(out, kernel_size=4, stride=4, padding=1)\n",
    "        out = self.frth_block(out)\n",
    "        # print(\"4 \", out.shape)\n",
    "        # Global pooling\n",
    "        out = torch.mean(out, dim=-1, keepdim=True) # pool over the time axis\n",
    "        out = self.c_out(out)\n",
    "        # print(\"5 \", out.shape)\n",
    "        # Then turn into features per time point (merging scale and the channel axes)\n",
    "        out = torch.max(out, dim=-2).values  # pool over the scale axis\n",
    "        out = out.view(out.size(0), 10)\n",
    "        return out"
   ]
  },
  {
   "cell_type": "code",
   "execution_count": 19,
   "metadata": {},
   "outputs": [
    {
     "name": "stdout",
     "output_type": "stream",
     "text": [
      "tensor([[  1.],\n",
      "        [  2.],\n",
      "        [  4.],\n",
      "        [  8.],\n",
      "        [ 16.],\n",
      "        [ 32.],\n",
      "        [ 64.],\n",
      "        [128.],\n",
      "        [256.]])\n",
      "tensor([[1.]])\n",
      "tensor([[1.],\n",
      "        [2.],\n",
      "        [4.]])\n"
     ]
    },
    {
     "data": {
      "text/plain": [
       "4018860"
      ]
     },
     "execution_count": 19,
     "metadata": {},
     "output_type": "execute_result"
    }
   ],
   "source": [
    "model = RRPlus_M34res(n_channels=48, n_classes=10, eps=2e-5, use_bias=False)\n",
    "sum([p.numel() for p in model.parameters()])"
   ]
  },
  {
   "cell_type": "code",
   "execution_count": 20,
   "metadata": {},
   "outputs": [
    {
     "name": "stdout",
     "output_type": "stream",
     "text": [
      "0  torch.Size([2, 45, 9, 15])\n",
      "1  torch.Size([2, 45, 7, 14])\n",
      "2  torch.Size([2, 90, 5, 13])\n",
      "3  torch.Size([2, 180, 3, 12])\n",
      "4  torch.Size([2, 360, 1, 3])\n",
      "5  torch.Size([2, 10, 1, 1])\n"
     ]
    },
    {
     "data": {
      "text/plain": [
       "torch.Size([2, 10])"
      ]
     },
     "execution_count": 20,
     "metadata": {},
     "output_type": "execute_result"
    }
   ],
   "source": [
    "x = torch.ones((2, 6, 16))\n",
    "y = model(x)\n",
    "y.shape"
   ]
  },
  {
   "cell_type": "code",
   "execution_count": 12,
   "metadata": {},
   "outputs": [
    {
     "name": "stdout",
     "output_type": "stream",
     "text": [
      "0  torch.Size([2, 45, 9, 20000])\n",
      "1  torch.Size([2, 45, 7, 5000])\n",
      "2  torch.Size([2, 90, 5, 1250])\n",
      "3  torch.Size([2, 180, 3, 312])\n",
      "4  torch.Size([2, 360, 1, 78])\n",
      "5  torch.Size([2, 10, 1, 1])\n"
     ]
    },
    {
     "data": {
      "text/plain": [
       "torch.Size([2, 10])"
      ]
     },
     "execution_count": 12,
     "metadata": {},
     "output_type": "execute_result"
    }
   ],
   "source": [
    "# x = torch.ones((2, 1, 80000))\n",
    "# y = model(x)\n",
    "# y.shape\n",
    "\n",
    "# 0  torch.Size([2, 45, 9, 20000])\n",
    "# 1  torch.Size([2, 45, 7, 5000])\n",
    "# 2  torch.Size([2, 90, 5, 1250])\n",
    "# 3  torch.Size([2, 180, 3, 312])\n",
    "# 4  torch.Size([2, 360, 1, 78])\n",
    "# 5  torch.Size([2, 10, 1, 1])\n",
    "# torch.Size([2, 10])"
   ]
  },
  {
   "cell_type": "markdown",
   "metadata": {},
   "source": [
    "# efficientnet"
   ]
  },
  {
   "cell_type": "code",
   "execution_count": null,
   "metadata": {},
   "outputs": [],
   "source": []
  },
  {
   "cell_type": "markdown",
   "metadata": {},
   "source": [
    "# convnext"
   ]
  },
  {
   "cell_type": "code",
   "execution_count": 1,
   "metadata": {},
   "outputs": [
    {
     "ename": "OSError",
     "evalue": "[WinError 127] 找不到指定的程序。 Error loading \"d:\\anaconda3\\envs\\torch\\lib\\site-packages\\torch\\lib\\nvfuser_codegen.dll\" or one of its dependencies.",
     "output_type": "error",
     "traceback": [
      "\u001b[1;31m---------------------------------------------------------------------------\u001b[0m",
      "\u001b[1;31mOSError\u001b[0m                                   Traceback (most recent call last)",
      "\u001b[1;32md:\\Inner_Wave\\Internal_Solitary_Wave_Localization\\demo.ipynb Cell 28\u001b[0m line \u001b[0;36m1\n\u001b[1;32m----> <a href='vscode-notebook-cell:/d%3A/Inner_Wave/Internal_Solitary_Wave_Localization/demo.ipynb#X45sZmlsZQ%3D%3D?line=0'>1</a>\u001b[0m \u001b[39mfrom\u001b[39;00m \u001b[39mmodel\u001b[39;00m \u001b[39mimport\u001b[39;00m \u001b[39m*\u001b[39m\n",
      "File \u001b[1;32md:\\Inner_Wave\\Internal_Solitary_Wave_Localization\\model\\__init__.py:1\u001b[0m\n\u001b[1;32m----> 1\u001b[0m \u001b[39mfrom\u001b[39;00m \u001b[39m.\u001b[39;00m\u001b[39mresnet\u001b[39;00m \u001b[39mimport\u001b[39;00m \u001b[39m*\u001b[39m\n\u001b[0;32m      2\u001b[0m \u001b[39mfrom\u001b[39;00m \u001b[39m.\u001b[39;00m\u001b[39monedcnn\u001b[39;00m \u001b[39mimport\u001b[39;00m \u001b[39m*\u001b[39m\n\u001b[0;32m      3\u001b[0m \u001b[39mfrom\u001b[39;00m \u001b[39m.\u001b[39;00m\u001b[39mequiresnet\u001b[39;00m \u001b[39mimport\u001b[39;00m \u001b[39m*\u001b[39m\n",
      "File \u001b[1;32md:\\Inner_Wave\\Internal_Solitary_Wave_Localization\\model\\resnet.py:1\u001b[0m\n\u001b[1;32m----> 1\u001b[0m \u001b[39mimport\u001b[39;00m \u001b[39mtorch\u001b[39;00m\n\u001b[0;32m      2\u001b[0m \u001b[39mimport\u001b[39;00m \u001b[39mtorch\u001b[39;00m\u001b[39m.\u001b[39;00m\u001b[39moptim\u001b[39;00m \u001b[39mas\u001b[39;00m \u001b[39moptim\u001b[39;00m\n\u001b[0;32m      3\u001b[0m \u001b[39mimport\u001b[39;00m \u001b[39mtorch\u001b[39;00m\u001b[39m.\u001b[39;00m\u001b[39mnn\u001b[39;00m \u001b[39mas\u001b[39;00m \u001b[39mnn\u001b[39;00m\n",
      "File \u001b[1;32md:\\anaconda3\\envs\\torch\\lib\\site-packages\\torch\\__init__.py:128\u001b[0m\n\u001b[0;32m    126\u001b[0m     err \u001b[39m=\u001b[39m ctypes\u001b[39m.\u001b[39mWinError(last_error)\n\u001b[0;32m    127\u001b[0m     err\u001b[39m.\u001b[39mstrerror \u001b[39m+\u001b[39m\u001b[39m=\u001b[39m \u001b[39mf\u001b[39m\u001b[39m'\u001b[39m\u001b[39m Error loading \u001b[39m\u001b[39m\"\u001b[39m\u001b[39m{\u001b[39;00mdll\u001b[39m}\u001b[39;00m\u001b[39m\"\u001b[39m\u001b[39m or one of its dependencies.\u001b[39m\u001b[39m'\u001b[39m\n\u001b[1;32m--> 128\u001b[0m     \u001b[39mraise\u001b[39;00m err\n\u001b[0;32m    129\u001b[0m \u001b[39melif\u001b[39;00m res \u001b[39mis\u001b[39;00m \u001b[39mnot\u001b[39;00m \u001b[39mNone\u001b[39;00m:\n\u001b[0;32m    130\u001b[0m     is_loaded \u001b[39m=\u001b[39m \u001b[39mTrue\u001b[39;00m\n",
      "\u001b[1;31mOSError\u001b[0m: [WinError 127] 找不到指定的程序。 Error loading \"d:\\anaconda3\\envs\\torch\\lib\\site-packages\\torch\\lib\\nvfuser_codegen.dll\" or one of its dependencies."
     ]
    }
   ],
   "source": [
    "from model import *"
   ]
  },
  {
   "cell_type": "code",
   "execution_count": 9,
   "metadata": {},
   "outputs": [
    {
     "ename": "NameError",
     "evalue": "name 'ConvNeXt' is not defined",
     "output_type": "error",
     "traceback": [
      "\u001b[1;31m---------------------------------------------------------------------------\u001b[0m",
      "\u001b[1;31mNameError\u001b[0m                                 Traceback (most recent call last)",
      "\u001b[1;32md:\\Inner_Wave\\Internal_Solitary_Wave_Localization\\demo.ipynb Cell 28\u001b[0m line \u001b[0;36m1\n\u001b[1;32m----> <a href='vscode-notebook-cell:/d%3A/Inner_Wave/Internal_Solitary_Wave_Localization/demo.ipynb#X44sZmlsZQ%3D%3D?line=0'>1</a>\u001b[0m model \u001b[39m=\u001b[39m ConvNeXt(depths\u001b[39m=\u001b[39m[\u001b[39m3\u001b[39m, \u001b[39m3\u001b[39m, \u001b[39m9\u001b[39m, \u001b[39m3\u001b[39m], dims\u001b[39m=\u001b[39m[\u001b[39m96\u001b[39m, \u001b[39m192\u001b[39m, \u001b[39m384\u001b[39m, \u001b[39m768\u001b[39m])\n",
      "\u001b[1;31mNameError\u001b[0m: name 'ConvNeXt' is not defined"
     ]
    }
   ],
   "source": [
    "model = ConvNeXt(depths=[3, 3, 9, 3], dims=[96, 192, 384, 768])"
   ]
  },
  {
   "cell_type": "code",
   "execution_count": 7,
   "metadata": {},
   "outputs": [
    {
     "ename": "NameError",
     "evalue": "name 'convnext_tiny' is not defined",
     "output_type": "error",
     "traceback": [
      "\u001b[1;31m---------------------------------------------------------------------------\u001b[0m",
      "\u001b[1;31mNameError\u001b[0m                                 Traceback (most recent call last)",
      "\u001b[1;32md:\\Inner_Wave\\Internal_Solitary_Wave_Localization\\demo.ipynb Cell 28\u001b[0m line \u001b[0;36m1\n\u001b[1;32m----> <a href='vscode-notebook-cell:/d%3A/Inner_Wave/Internal_Solitary_Wave_Localization/demo.ipynb#X35sZmlsZQ%3D%3D?line=0'>1</a>\u001b[0m model \u001b[39m=\u001b[39m convnext_tiny(pretrained\u001b[39m=\u001b[39m\u001b[39mFalse\u001b[39;00m, in_22k\u001b[39m=\u001b[39m\u001b[39mFalse\u001b[39;00m)\n\u001b[0;32m      <a href='vscode-notebook-cell:/d%3A/Inner_Wave/Internal_Solitary_Wave_Localization/demo.ipynb#X35sZmlsZQ%3D%3D?line=1'>2</a>\u001b[0m \u001b[39msum\u001b[39m([p\u001b[39m.\u001b[39mnumel() \u001b[39mfor\u001b[39;00m p \u001b[39min\u001b[39;00m model\u001b[39m.\u001b[39mparameters()])\n",
      "\u001b[1;31mNameError\u001b[0m: name 'convnext_tiny' is not defined"
     ]
    }
   ],
   "source": [
    "model = convnext_tiny(pretrained=False, in_22k=False)\n",
    "sum([p.numel() for p in model.parameters()])"
   ]
  }
 ],
 "metadata": {
  "kernelspec": {
   "display_name": "torch",
   "language": "python",
   "name": "python3"
  },
  "language_info": {
   "codemirror_mode": {
    "name": "ipython",
    "version": 3
   },
   "file_extension": ".py",
   "mimetype": "text/x-python",
   "name": "python",
   "nbconvert_exporter": "python",
   "pygments_lexer": "ipython3",
   "version": "3.9.0"
  }
 },
 "nbformat": 4,
 "nbformat_minor": 2
}
